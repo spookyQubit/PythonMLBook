{
 "cells": [
  {
   "cell_type": "markdown",
   "metadata": {},
   "source": [
    "# Data Preprocessing"
   ]
  },
  {
   "cell_type": "markdown",
   "metadata": {},
   "source": [
    "## Dealing with missing data: dropna"
   ]
  },
  {
   "cell_type": "code",
   "execution_count": 213,
   "metadata": {},
   "outputs": [],
   "source": [
    "import pandas as pd\n",
    "from io import StringIO\n",
    "csv_data = '''A, B, C, D\n",
    "1.0, 2.0, 3.0, 4.0\n",
    "5.0, 6.0,, 8.0\n",
    "0.0, 11.0, 12.0,'''\n",
    "csv_data = unicode(csv_data)\n",
    "df = pd.read_csv(StringIO(csv_data))\n",
    "#df.dropna(axis=0)\n",
    "#df.dropna(axis=1)"
   ]
  },
  {
   "cell_type": "markdown",
   "metadata": {},
   "source": [
    "## Dealing with missing data: Imputer"
   ]
  },
  {
   "cell_type": "code",
   "execution_count": 214,
   "metadata": {},
   "outputs": [
    {
     "name": "stdout",
     "output_type": "stream",
     "text": [
      "   A   B   C   D\n",
      "0  1   2   3   4\n",
      "1  5   6 NaN   8\n",
      "2  0  11  12 NaN\n",
      "[[  1.    2.    3.    4. ]\n",
      " [  5.    6.    7.5   8. ]\n",
      " [  0.   11.   12.    6. ]]\n"
     ]
    }
   ],
   "source": [
    "from sklearn.preprocessing import Imputer\n",
    "imr = Imputer(missing_values='NaN', strategy='mean', axis=0)\n",
    "imr.fit(df)\n",
    "print df\n",
    "print imr.transform(df.values)"
   ]
  },
  {
   "cell_type": "markdown",
   "metadata": {},
   "source": [
    "## Dealing with catagorical data: Creating an example data"
   ]
  },
  {
   "cell_type": "code",
   "execution_count": 215,
   "metadata": {},
   "outputs": [],
   "source": [
    "import pandas as pd\n",
    "df = pd.DataFrame([\n",
    "        ['green', 'M', 10.1, 'class1'],\n",
    "        ['red', 'L', 13.5, 'class2'],\n",
    "        ['blue', 'XL', 15.3, 'class1']])\n",
    "df.columns=['color', 'size', 'price', 'classLabel']"
   ]
  },
  {
   "cell_type": "markdown",
   "metadata": {},
   "source": [
    "## Dealing with catagorical data: Mapping ordinal features"
   ]
  },
  {
   "cell_type": "code",
   "execution_count": 216,
   "metadata": {},
   "outputs": [
    {
     "data": {
      "text/html": [
       "<div>\n",
       "<table border=\"1\" class=\"dataframe\">\n",
       "  <thead>\n",
       "    <tr style=\"text-align: right;\">\n",
       "      <th></th>\n",
       "      <th>color</th>\n",
       "      <th>size</th>\n",
       "      <th>price</th>\n",
       "      <th>classLabel</th>\n",
       "    </tr>\n",
       "  </thead>\n",
       "  <tbody>\n",
       "    <tr>\n",
       "      <th>0</th>\n",
       "      <td>green</td>\n",
       "      <td>1</td>\n",
       "      <td>10.1</td>\n",
       "      <td>class1</td>\n",
       "    </tr>\n",
       "    <tr>\n",
       "      <th>1</th>\n",
       "      <td>red</td>\n",
       "      <td>2</td>\n",
       "      <td>13.5</td>\n",
       "      <td>class2</td>\n",
       "    </tr>\n",
       "    <tr>\n",
       "      <th>2</th>\n",
       "      <td>blue</td>\n",
       "      <td>3</td>\n",
       "      <td>15.3</td>\n",
       "      <td>class1</td>\n",
       "    </tr>\n",
       "  </tbody>\n",
       "</table>\n",
       "</div>"
      ]
     },
     "output_type": "execute_result",
     "metadata": {}
    }
   ],
   "source": [
    "size_mapping = {'XL': 3,\n",
    "                'L' : 2,\n",
    "                'M' : 1}\n",
    "df['size'] = df['size'].map(size_mapping)\n",
    "df"
   ]
  },
  {
   "cell_type": "markdown",
   "metadata": {},
   "source": [
    "## Dealing with catagorical data: Encoding class labels using map"
   ]
  },
  {
   "cell_type": "code",
   "execution_count": 217,
   "metadata": {},
   "outputs": [],
   "source": [
    "#import numpy as np\n",
    "#class_mapping = {v: k for k, v in enumerate(np.unique(df['classLabel']))} \n",
    "#df['classLabel'] = df['classLabel'].map(class_mapping)\n",
    "#df"
   ]
  },
  {
   "cell_type": "markdown",
   "metadata": {},
   "source": [
    "## Dealing with catagorical data: Encoding class labels using LebelEncoder"
   ]
  },
  {
   "cell_type": "code",
   "execution_count": 218,
   "metadata": {},
   "outputs": [
    {
     "data": {
      "text/html": [
       "<div>\n",
       "<table border=\"1\" class=\"dataframe\">\n",
       "  <thead>\n",
       "    <tr style=\"text-align: right;\">\n",
       "      <th></th>\n",
       "      <th>color</th>\n",
       "      <th>size</th>\n",
       "      <th>price</th>\n",
       "      <th>classLabel</th>\n",
       "    </tr>\n",
       "  </thead>\n",
       "  <tbody>\n",
       "    <tr>\n",
       "      <th>0</th>\n",
       "      <td>green</td>\n",
       "      <td>1</td>\n",
       "      <td>10.1</td>\n",
       "      <td>0</td>\n",
       "    </tr>\n",
       "    <tr>\n",
       "      <th>1</th>\n",
       "      <td>red</td>\n",
       "      <td>2</td>\n",
       "      <td>13.5</td>\n",
       "      <td>1</td>\n",
       "    </tr>\n",
       "    <tr>\n",
       "      <th>2</th>\n",
       "      <td>blue</td>\n",
       "      <td>3</td>\n",
       "      <td>15.3</td>\n",
       "      <td>0</td>\n",
       "    </tr>\n",
       "  </tbody>\n",
       "</table>\n",
       "</div>"
      ]
     },
     "output_type": "execute_result",
     "metadata": {}
    }
   ],
   "source": [
    "from sklearn.preprocessing import LabelEncoder\n",
    "class_le = LabelEncoder()\n",
    "y = class_le.fit_transform(df['classLabel'].values)\n",
    "df['classLabel'] = y\n",
    "df"
   ]
  },
  {
   "cell_type": "markdown",
   "metadata": {},
   "source": [
    "## Dealing with catagorical data: OneHotCoding on nominal features"
   ]
  },
  {
   "cell_type": "code",
   "execution_count": 219,
   "metadata": {},
   "outputs": [
    {
     "name": "stdout",
     "output_type": "stream",
     "text": [
      "[[  0.    1.    0.    1.   10.1   0. ]\n",
      " [  0.    0.    1.    2.   13.5   1. ]\n",
      " [  1.    0.    0.    3.   15.3   0. ]]\n"
     ]
    }
   ],
   "source": [
    "from sklearn.preprocessing import OneHotEncoder\n",
    "X = df.values\n",
    "color_le = LabelEncoder()\n",
    "colors = color_le.fit_transform(X[:,0])\n",
    "X[:,0] = colors\n",
    "ohe = OneHotEncoder(categorical_features=[0])\n",
    "X = ohe.fit_transform(X).toarray()\n",
    "print X"
   ]
  },
  {
   "cell_type": "markdown",
   "metadata": {},
   "source": [
    "## Dealing with catagorical data: get_dummies on nominal features"
   ]
  },
  {
   "cell_type": "code",
   "execution_count": 220,
   "metadata": {},
   "outputs": [
    {
     "data": {
      "text/html": [
       "<div>\n",
       "<table border=\"1\" class=\"dataframe\">\n",
       "  <thead>\n",
       "    <tr style=\"text-align: right;\">\n",
       "      <th></th>\n",
       "      <th>price</th>\n",
       "      <th>size</th>\n",
       "      <th>classLabel</th>\n",
       "      <th>color_blue</th>\n",
       "      <th>color_green</th>\n",
       "      <th>color_red</th>\n",
       "    </tr>\n",
       "  </thead>\n",
       "  <tbody>\n",
       "    <tr>\n",
       "      <th>0</th>\n",
       "      <td>10.1</td>\n",
       "      <td>1</td>\n",
       "      <td>0</td>\n",
       "      <td>0</td>\n",
       "      <td>1</td>\n",
       "      <td>0</td>\n",
       "    </tr>\n",
       "    <tr>\n",
       "      <th>1</th>\n",
       "      <td>13.5</td>\n",
       "      <td>2</td>\n",
       "      <td>1</td>\n",
       "      <td>0</td>\n",
       "      <td>0</td>\n",
       "      <td>1</td>\n",
       "    </tr>\n",
       "    <tr>\n",
       "      <th>2</th>\n",
       "      <td>15.3</td>\n",
       "      <td>3</td>\n",
       "      <td>0</td>\n",
       "      <td>1</td>\n",
       "      <td>0</td>\n",
       "      <td>0</td>\n",
       "    </tr>\n",
       "  </tbody>\n",
       "</table>\n",
       "</div>"
      ]
     },
     "output_type": "execute_result",
     "metadata": {}
    }
   ],
   "source": [
    "# Note that the columns for color will automaticall be at the end\n",
    "pd.get_dummies(df[['color', 'price', 'size', 'classLabel']])"
   ]
  },
  {
   "cell_type": "markdown",
   "metadata": {},
   "source": [
    "## Wine dataset: Partitioning test and train data"
   ]
  },
  {
   "cell_type": "code",
   "execution_count": 221,
   "metadata": {},
   "outputs": [],
   "source": [
    "df_wine = pd.read_csv('/home/shantanu/PycharmProjects/PythonMLBook/Chapter4/wine.csv')\n",
    "df_wine.columns = ['Class label', 'Alcohol', 'Malic acid', 'Ash', \n",
    "                   'Alcalinity of ash', 'Magnesium', 'Total phenols', \n",
    "                   'Flavanoids', 'Nonflavanoid phenols', 'Proanthocyanins', \n",
    "                   'Color intensity', 'Hue', 'OD280/OD315 of diluted wines', 'Proline']\n",
    "from sklearn.cross_validation import train_test_split\n",
    "X, y = df_wine.iloc[:, 1:].values, df_wine.iloc[:,0].values\n",
    "X_train, X_test, y_train, y_test = train_test_split(X, y, test_size=0.3, random_state=0)"
   ]
  },
  {
   "cell_type": "markdown",
   "metadata": {},
   "source": [
    "## Wine dataset: Feature scaling with MinMaxScaler"
   ]
  },
  {
   "cell_type": "code",
   "execution_count": 222,
   "metadata": {},
   "outputs": [],
   "source": [
    "from sklearn.preprocessing import MinMaxScaler\n",
    "mms = MinMaxScaler()\n",
    "mms.fit(X_test)\n",
    "X_train_norm_mms = mms.transform(X_train)\n",
    "X_test_norm_mms  = mms.transform(X_test)"
   ]
  },
  {
   "cell_type": "markdown",
   "metadata": {},
   "source": [
    "## Wine dataset: Feature scaling with StandardScaler"
   ]
  },
  {
   "cell_type": "code",
   "execution_count": 223,
   "metadata": {},
   "outputs": [],
   "source": [
    "from sklearn.preprocessing import StandardScaler\n",
    "std = StandardScaler()\n",
    "std.fit(X_test)\n",
    "X_train_std = std.transform(X_train)\n",
    "X_test_std  = std.transform(X_test)"
   ]
  },
  {
   "cell_type": "markdown",
   "metadata": {},
   "source": [
    "## Wine dataset: Logistic regression with L1 norm regularization "
   ]
  },
  {
   "cell_type": "code",
   "execution_count": 224,
   "metadata": {},
   "outputs": [
    {
     "name": "stdout",
     "output_type": "stream",
     "text": [
      "('Training accuracy: ', 0.97580645161290325)\n",
      "('Testing accuracy: ', 0.98148148148148151)\n"
     ]
    }
   ],
   "source": [
    "from sklearn.linear_model import LogisticRegression\n",
    "lr = LogisticRegression(penalty='l1', C=0.1)\n",
    "lr.fit(X_train_std, y_train)\n",
    "print('Training accuracy: ', lr.score(X_train_std, y_train))\n",
    "print('Testing accuracy: ',  lr.score(X_test_std,  y_test))"
   ]
  },
  {
   "cell_type": "markdown",
   "metadata": {},
   "source": [
    "## Feature selection: Sequential Backward Selection"
   ]
  },
  {
   "cell_type": "code",
   "execution_count": 237,
   "metadata": {},
   "outputs": [
    {
     "name": "stdout",
     "output_type": "stream",
     "text": [
      "[ 0  1  2  3  4  5  6  7  8  9 10 11]\n",
      "[ 0  1  2  3  5  6  7  8  9 10 11]\n",
      "[ 0  2  3  5  6  7  8  9 10 11]\n",
      "[ 0  2  5  6  7  8  9 10 11]\n",
      "[ 0  2  5  6  7  8 10 11]\n",
      "[ 0  2  6  7  8 10 11]\n",
      "[ 0  2  7  8 10 11]\n",
      "[ 0  2  8 10 11]\n",
      "[ 0  2 10 11]\n",
      "[ 0 10 11]\n",
      "[ 0 11]\n",
      "[0]\n",
      "Index([u'Class label', u'Alcohol', u'Malic acid', u'Ash', u'Alcalinity of ash',\n",
      "       u'Magnesium', u'Total phenols', u'Flavanoids', u'Nonflavanoid phenols',\n",
      "       u'Proanthocyanins', u'Color intensity', u'Hue',\n",
      "       u'OD280/OD315 of diluted wines', u'Proline'],\n",
      "      dtype='object')\n"
     ]
    },
    {
     "data": {
      "text/plain": [
       "Index([u'Alcohol', u'Ash', u'Proanthocyanins', u'Hue',\n",
       "       u'OD280/OD315 of diluted wines'],\n",
       "      dtype='object')"
      ]
     },
     "execution_count": 237,
     "output_type": "execute_result",
     "metadata": {}
    }
   ],
   "source": [
    "from sklearn.metrics import accuracy_score\n",
    "class SBS():\n",
    "    def __init__(self, estimator, k_features, \n",
    "                 scoring = accuracy_score, test_size=0.25,\n",
    "                 random_state = 1):\n",
    "        self.estimator      = estimator\n",
    "        self.k_features     = k_features \n",
    "        self.scoring        = scoring\n",
    "        self.test_size      = test_size\n",
    "        self.random_state   = random_state\n",
    "    \n",
    "    def fit(self, X, y):\n",
    "        # Finds the indeces of the features which needs to be kept\n",
    "        X_train, X_test, y_train, y_test = train_test_split(X, y, \n",
    "                                                            test_size = self.test_size, \n",
    "                                                            random_state=self.random_state)\n",
    "        std = StandardScaler()\n",
    "        std.fit(X_train)\n",
    "        X_train_std = std.transform(X_train)\n",
    "        X_test_std  = std.transform(X_test)\n",
    "        \n",
    "        self.dim_ = X.shape[1]\n",
    "        self.all_indices_remaining_ = np.arange(self.dim_)\n",
    "        dim = self.dim_\n",
    "        \n",
    "        while dim > self.k_features:\n",
    "            dictFeatureScore = {}\n",
    "            for idx, feature in enumerate(self.all_indices_remaining_):\n",
    "                currentFeatures = np.delete(self.all_indices_remaining_, idx)\n",
    "                score = self._calc_score(X_train, X_test, y_train, y_test, currentFeatures)\n",
    "                dictFeatureScore[feature] = score\n",
    "            \n",
    "            feature_with_max_score = self._get_key_with_max_score(dictFeatureScore)\n",
    "            feature_index = np.where(self.all_indices_remaining_==feature_with_max_score)[0]\n",
    "            self.all_indices_remaining_ = np.delete(self.all_indices_remaining_, feature_index)\n",
    "            dim = dim - 1\n",
    "            print self.all_indices_remaining_\n",
    "            \n",
    "\n",
    "            \n",
    "    def _get_key_with_max_score(self, dictFeatureScore):\n",
    "        k = list(dictFeatureScore.keys())\n",
    "        v = list(dictFeatureScore.values())\n",
    "        return k[v.index(max(v))]\n",
    "        \n",
    "    def _calc_score(self, X_train, X_test, y_train, y_test, indices):\n",
    "        self.estimator.fit(X_train[:, indices], y_train)\n",
    "        y_pred = self.estimator.predict(X_test[:, indices])\n",
    "        score = self.scoring(y_pred, y_test)\n",
    "        return score\n",
    "            \n",
    "            \n",
    "\n",
    "from sklearn.neighbors import KNeighborsClassifier\n",
    "knn = KNeighborsClassifier(n_neighbors=2)\n",
    "sbs = SBS(knn, k_features=1)\n",
    "#print X, y\n",
    "sbs.fit(X, y)\n",
    "\n",
    "print df_wine.columns\n",
    "df_wine.columns[1:][[0, 2, 8, 10, 11]]"
   ]
  },
  {
   "cell_type": "code",
   "execution_count": null,
   "metadata": {},
   "outputs": [],
   "source": [
    ""
   ]
  }
 ],
 "metadata": {
  "kernelspec": {
   "display_name": "Python 2",
   "language": "python",
   "name": "python2"
  },
  "language_info": {
   "codemirror_mode": {
    "name": "ipython",
    "version": 2.0
   },
   "file_extension": ".py",
   "mimetype": "text/x-python",
   "name": "python",
   "nbconvert_exporter": "python",
   "pygments_lexer": "ipython2",
   "version": "2.7.3"
  }
 },
 "nbformat": 4,
 "nbformat_minor": 0
}