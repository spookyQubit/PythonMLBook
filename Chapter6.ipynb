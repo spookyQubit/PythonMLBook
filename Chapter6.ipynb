{
 "cells": [
  {
   "cell_type": "markdown",
   "metadata": {},
   "source": [
    "# Model evaluation and hyperparamter tuning"
   ]
  },
  {
   "cell_type": "markdown",
   "metadata": {},
   "source": [
    "## Plotting function for decision boundaries, test and training samples"
   ]
  },
  {
   "cell_type": "code",
   "execution_count": null,
   "metadata": {
    "collapsed": true
   },
   "outputs": [],
   "source": [
    "from matplotlib.colors import ListedColormap\n",
    "import matplotlib.pyplot as plt\n",
    "\n",
    "def plot_decision_regions(X, y, classifier, test_idx=None, resolution=0.02):\n",
    "    # Setup marker generator and color map\n",
    "    markers = ('s', 'x', 'o', '^', 'v')\n",
    "    colors = ('red', 'blue', 'lightgreen', 'gray', 'cyan')\n",
    "    cmap = ListedColormap(colors[:len(np.unique(y))])\n",
    "    \n",
    "    # Plotting the data\n",
    "    x1_min, x1_max = min(X[:,0]) - 1, max(X[:,0]) + 1   \n",
    "    x2_min, x2_max = min(X[:,1]) - 1, max(X[:,1]) + 1 \n",
    "    xx1, xx2 = np.meshgrid(np.arange(x1_min, x1_max, resolution), \n",
    "                           np.arange(x2_min, x2_max, resolution))\n",
    "    Z = classifier.predict(np.array([xx1.ravel(), xx2.ravel()]).T)\n",
    "    Z = Z.reshape(xx1.shape)\n",
    "    \n",
    "    plt.contourf(xx1, xx2, Z, alpha=0.4, cmap=cmap)\n",
    "    plt.xlim(x1_min, x1_max)\n",
    "    plt.ylim(x2_min, x2_max)\n",
    "    \n",
    "    # Plot all samples\n",
    "    for idx, cl in enumerate(np.unique(y)):\n",
    "        plt.scatter(x=X[y==cl, 0], y=X[y==cl, 1], \n",
    "                    alpha = 0.8, c=cmap(idx), marker=markers[idx], label=cl)\n",
    "    \n",
    "    # Highlight test samples\n",
    "    if test_idx:\n",
    "        X_test, y_test = X[test_idx, :], y[test_idx]\n",
    "        plt.scatter(X_test[:, 0], X_test[:, 1], alpha=1.0, c='', marker='o', label='test sample')"
   ]
  },
  {
   "cell_type": "markdown",
   "metadata": {},
   "source": [
    "## Getting the Breast Cancer data"
   ]
  },
  {
   "cell_type": "code",
   "execution_count": null,
   "metadata": {
    "collapsed": true
   },
   "outputs": [],
   "source": [
    "import pandas as pd\n",
    "# Read the data from the net and store it in the disk\n",
    "# data = pd.read_csv('https://archive.ics.uci.edu/ml/machine-learning-databases/breast-cancer-wisconsin/wdbc.data', \n",
    "#                   header=None)\n",
    "# data.to_csv(\"breast_cancer.csv\", header=False, index=False)\n",
    "\n",
    "# Read the stored data in the disk\n",
    "from sklearn.preprocessing import LabelEncoder\n",
    "data = pd.read_csv(\"breast_cancer.csv\", header=None, index_col=False)\n",
    "X = data.iloc[:, 2:].values\n",
    "y = data.iloc[:, 1 ].values\n",
    "y = LabelEncoder().fit_transform(y)\n",
    "\n",
    "from sklearn.cross_validation import train_test_split\n",
    "X_train, X_test, y_train, y_test = train_test_split(X, y, test_size=0.2, random_state=1)"
   ]
  },
  {
   "cell_type": "markdown",
   "metadata": {},
   "source": [
    "# Combining transformers and estimators in pipeline"
   ]
  },
  {
   "cell_type": "code",
   "execution_count": null,
   "metadata": {
    "collapsed": false
   },
   "outputs": [],
   "source": [
    "from sklearn.pipeline import Pipeline\n",
    "from sklearn.preprocessing import StandardScaler\n",
    "from sklearn.decomposition import PCA\n",
    "from sklearn.linear_model import LogisticRegression\n",
    "pca_lr_pipe = Pipeline([('std', StandardScaler()),\n",
    "                   ('pca', PCA(n_components=2)),\n",
    "                   ('lr', LogisticRegression(random_state=1))])\n",
    "pca_lr_pipe.fit(X_train, y_train)\n",
    "pca_lr_pipe.score(X_test, y_test)"
   ]
  },
  {
   "cell_type": "markdown",
   "metadata": {},
   "source": [
    "# Using stratified k-fold cross validation "
   ]
  },
  {
   "cell_type": "code",
   "execution_count": null,
   "metadata": {
    "collapsed": false
   },
   "outputs": [],
   "source": [
    "from sklearn.cross_validation import StratifiedKFold\n",
    "import numpy as np\n",
    "skf = StratifiedKFold(y_train, n_folds = 10, random_state=1)\n",
    "scores = []\n",
    "for k, (trn_index, val_index) in enumerate(skf):\n",
    "    X_trn, X_val = X_train[trn_index], X_train[val_index]\n",
    "    y_trn, y_val = y_train[trn_index], y_train[val_index]\n",
    "    pca_lr_pipe.fit(X_trn, y_trn)\n",
    "    score = pca_lr_pipe.score(X_val, y_val)\n",
    "    scores.append(score)\n",
    "    print (\"k = %s, Class dist: %s, score = %0.3f\" %(k+1, np.bincount(y_trn), score))\n",
    "print (\"CV accuracy = %s +/- %s \" %(np.mean(scores), np.std(scores))) "
   ]
  },
  {
   "cell_type": "code",
   "execution_count": null,
   "metadata": {
    "collapsed": false
   },
   "outputs": [],
   "source": [
    "from sklearn.cross_validation import cross_val_score\n",
    "scores = cross_val_score(estimator=pca_lr_pipe, \n",
    "                         X=X_train,\n",
    "                         y=y_train,\n",
    "                         cv=10,\n",
    "                         n_jobs=n_jobs)\n",
    "print (\"CV accuracy = %s +/- %s\" %(np.mean(scores), np.std(scores)))"
   ]
  },
  {
   "cell_type": "markdown",
   "metadata": {},
   "source": [
    "## Plotting learning curve"
   ]
  },
  {
   "cell_type": "markdown",
   "metadata": {},
   "source": [
    "from sklearn.learning_curve import learning_curve\n",
    "\n",
    "train_sizes, train_scores, test_scores = learning_curve(estimator=pca_lr_pipe,\n",
    "                                                        X=X_train,\n",
    "                                                        y=y_train, \n",
    "                                                        train_sizes=np.linspace(0.1, 1.0, 15),\n",
    "                                                        cv=10,\n",
    "                                                        n_jobs=1)\n",
    "\n",
    "\n",
    "plt.plot(train_sizes, np.mean(train_scores, axis=1), c='blue', marker='o', label='training accuracy')\n",
    "plt.fill_between(train_sizes, np.mean(train_scores, axis=1) + np.std(train_scores, axis=1), \n",
    "                 np.mean(train_scores, axis=1) - np.std(train_scores, axis=1), \n",
    "                 color = 'blue', alpha=0.2)\n",
    "\n",
    "plt.plot(train_sizes, np.mean(test_scores, axis=1), c='green', marker='x', label='testing accuracy')\n",
    "plt.fill_between(train_sizes, np.mean(test_scores, axis=1) + np.std(test_scores, axis=1),\n",
    "                 np.mean(test_scores, axis=1) - np.std(test_scores, axis=1), \n",
    "                 color = 'green', alpha=0.2)\n",
    "\n",
    "plt.ylim(0.8, 1)\n",
    "plt.grid()\n",
    "plt.legend(loc='lower right')\n",
    "plt.show()"
   ]
  },
  {
   "cell_type": "markdown",
   "metadata": {},
   "source": [
    "## Plotting validation curve "
   ]
  },
  {
   "cell_type": "code",
   "execution_count": null,
   "metadata": {
    "collapsed": false
   },
   "outputs": [],
   "source": [
    "from sklearn.learning_curve import validation_curve\n",
    "\n",
    "param_range = [0.001, 0.01, 0.1, 1.0, 10, 100]\n",
    "train_scores, test_scores = validation_curve(estimator=pca_lr_pipe,\n",
    "                                             X=X_train, \n",
    "                                             y=y_train,\n",
    "                                             param_name='lr__C',\n",
    "                                             param_range=param_range,\n",
    "                                             cv=10,\n",
    "                                             n_jobs=1)\n",
    "print train_scores.shape\n",
    "print test_scores.shape\n",
    "\n",
    "plt.plot(param_range, np.mean(train_scores, axis=1), c='blue', marker='o', label='training accuracy')\n",
    "plt.fill_between(param_range, np.mean(train_scores, axis=1) + np.std(train_scores, axis=1), \n",
    "                 np.mean(train_scores, axis=1) - np.std(train_scores, axis=1), \n",
    "                 color = 'blue', alpha=0.2)\n",
    "\n",
    "plt.plot(param_range, np.mean(test_scores, axis=1), c='green', marker='x', label='testing accuracy')\n",
    "plt.fill_between(param_range, np.mean(test_scores, axis=1) + np.std(test_scores, axis=1),\n",
    "                 np.mean(test_scores, axis=1) - np.std(test_scores, axis=1), \n",
    "                 color = 'green', alpha=0.2)\n",
    "plt.xscale('log')\n",
    "plt.show()\n"
   ]
  },
  {
   "cell_type": "markdown",
   "metadata": {},
   "source": [
    "## Hyperparameter tuning using grid search"
   ]
  },
  {
   "cell_type": "code",
   "execution_count": 106,
   "metadata": {
    "collapsed": false
   },
   "outputs": [
    {
     "name": "stdout",
     "output_type": "stream",
     "text": [
      "Shan\n",
      "{'clf__C': 0.1, 'clf__kernel': 'linear'}\n",
      "0.969230769231\n",
      "huha\n",
      "[mean: 0.95385, std: 0.02149, params: {'clf__C': 0.01, 'clf__kernel': 'linear'}, mean: 0.96923, std: 0.03053, params: {'clf__C': 0.1, 'clf__kernel': 'linear'}, mean: 0.62637, std: 0.00195, params: {'clf__gamma': 0.01, 'clf__C': 0.01, 'clf__kernel': 'rbf'}, mean: 0.62637, std: 0.00195, params: {'clf__gamma': 0.1, 'clf__C': 0.01, 'clf__kernel': 'rbf'}, mean: 0.94066, std: 0.00537, params: {'clf__gamma': 0.01, 'clf__C': 0.1, 'clf__kernel': 'rbf'}, mean: 0.90549, std: 0.02499, params: {'clf__gamma': 0.1, 'clf__C': 0.1, 'clf__kernel': 'rbf'}]\n"
     ]
    }
   ],
   "source": [
    "from sklearn.grid_search import GridSearchCV\n",
    "from sklearn.svm import SVC\n",
    "pipe_svm = Pipeline([('scl', StandardScaler()),\n",
    "                     ('clf', SVC(random_state=1))])\n",
    "param_range = [0.01, 0.1]\n",
    "param_grid = [{'clf__C': param_range, 'clf__kernel': ['linear']}, \n",
    "              {'clf__C': param_range, 'clf__gamma': param_range, 'clf__kernel': ['rbf']}]\n",
    "gs = GridSearchCV(estimator  = pipe_svm, \n",
    "                  param_grid = param_grid, \n",
    "                 )\n",
    "gs.fit(X_train, y_train)\n",
    "print gs.best_params_\n",
    "print gs.best_score_\n",
    "print gs.grid_scores_"
   ]
  },
  {
   "cell_type": "code",
   "execution_count": null,
   "metadata": {
    "collapsed": true
   },
   "outputs": [],
   "source": []
  }
 ],
 "metadata": {
  "kernelspec": {
   "display_name": "Python 2",
   "language": "python",
   "name": "python2"
  },
  "language_info": {
   "codemirror_mode": {
    "name": "ipython",
    "version": 2
   },
   "file_extension": ".py",
   "mimetype": "text/x-python",
   "name": "python",
   "nbconvert_exporter": "python",
   "pygments_lexer": "ipython2",
   "version": "2.7.3"
  }
 },
 "nbformat": 4,
 "nbformat_minor": 0
}
